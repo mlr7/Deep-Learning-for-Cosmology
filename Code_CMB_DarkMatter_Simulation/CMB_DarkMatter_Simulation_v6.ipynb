{
 "cells": [
  {
   "cell_type": "code",
   "execution_count": null,
   "metadata": {},
   "outputs": [],
   "source": []
  },
  {
   "cell_type": "code",
   "execution_count": null,
   "metadata": {},
   "outputs": [],
   "source": [
    "# install libraries on aws linux:\n",
    "\n",
    "# ! pip install healpy\n",
    "\n",
    "# ! pip install camb"
   ]
  },
  {
   "cell_type": "code",
   "execution_count": null,
   "metadata": {},
   "outputs": [],
   "source": [
    "# test installs\n",
    "# import camb\n",
    "# import healpy"
   ]
  },
  {
   "cell_type": "code",
   "execution_count": null,
   "metadata": {},
   "outputs": [],
   "source": [
    "# https://github.com/ixkael/Prob-tools/blob/master/notebooks/The%20CMB%20as%20a%20Gaussian%20Process.ipynb"
   ]
  },
  {
   "cell_type": "code",
   "execution_count": null,
   "metadata": {},
   "outputs": [],
   "source": [
    "%matplotlib inline\n",
    "%config IPython.matplotlib.backend = 'retina'\n",
    "%config InlineBackend.figure_format = 'retina'\n",
    "\n",
    "import matplotlib\n",
    "import matplotlib.pyplot as plt\n",
    "from matplotlib import rc\n",
    "from cycler import cycler\n",
    "\n",
    "import numpy as np\n",
    "\n",
    "rc(\"font\", family=\"serif\", size=14)\n",
    "rc(\"text\", usetex=False)\n",
    "matplotlib.rcParams['lines.linewidth'] = 2\n",
    "matplotlib.rcParams['patch.linewidth'] = 2\n",
    "matplotlib.rcParams['axes.prop_cycle'] =\\\n",
    "    cycler(\"color\", ['k', 'c', 'm', 'y'])\n",
    "matplotlib.rcParams['axes.labelsize'] = 16\n",
    "\n",
    "import healpy as hp\n",
    "\n",
    "import camb\n",
    "from camb import model, initialpower"
   ]
  },
  {
   "cell_type": "code",
   "execution_count": null,
   "metadata": {},
   "outputs": [],
   "source": [
    "nside = 512  # Healpix parameter, giving 12*nside**2 equal-area pixels on the sphere.\n",
    "lmax = 3*nside # band-limit. Should be 2*nside < lmax < 4*nside to get information content."
   ]
  },
  {
   "cell_type": "markdown",
   "metadata": {},
   "source": [
    "Reference: https://camb.readthedocs.io/en/latest/model.html\n",
    "\n",
    "* set_cosmology(H0: float | None = None, ombh2=0.022, omch2=0.12, omk=0.0, cosmomc_theta: float | None = None, thetastar: float | None = None, neutrino_hierarchy: str | int = 'degenerate', num_massive_neutrinos=1, mnu=0.06, nnu=3.044, YHe: float | None = None, meffsterile=0.0, standard_neutrino_neff=3.044, TCMB=2.7255, tau: float | None = None, zrei: float | None = None, deltazrei: float | None = None, Alens=1.0, bbn_predictor: None | str | BBNPredictor = None, theta_H0_range=(10, 100))   \n",
    "\n",
    "-------------      \n",
    "\n",
    "* H0 – (float64) Hubble parameter is km/s/Mpc units  \n",
    "* H0 – Hubble parameter today in km/s/Mpc. Can leave unset and instead set thetastar or cosmomc_theta (which solves for the required H0).\n",
    "\n",
    "* ombh2 – physical density in baryons\n",
    "* omch2 – physical density in cold dark matter\n",
    "\n",
    "* mnu – sum of neutrino masses (in eV). Omega_nu is calculated approximately from this assuming neutrinos non-relativistic today; i.e. here is defined as a direct proxy for Omega_nu. Internally the actual physical mass is calculated from the Omega_nu accounting for small mass-dependent velocity corrections but neglecting spectral distortions to the neutrino distribution. Set the neutrino field values directly if you need finer control or more complex neutrino models.\n",
    "\n",
    "* omk – Omega_K curvature parameter\n",
    "\n",
    "* tau – optical depth; if None and zrei is None, current Reion settings are not changed\n",
    "\n",
    "(many more parameters at https://camb.readthedocs.io/en/latest/model.html)"
   ]
  },
  {
   "cell_type": "markdown",
   "metadata": {},
   "source": [
    "Reference: https://en.wikipedia.org/wiki/Lambda-CDM_model\n",
    "\n",
    "Dark matter constitutes about 26.5%[8] of the mass–energy density of the universe. The remaining 4.9%[8] comprises all ordinary matter observed as atoms, chemical elements, gas and plasma, the stuff of which visible planets, stars and galaxies are made. The great majority of ordinary matter in the universe is unseen, since visible stars and gas inside galaxies and clusters account for less than 10% of the ordinary matter contribution to the mass–energy density of the universe.[9]\n",
    "\n",
    "Also, the energy density includes a very small fraction (~ 0.01%) in cosmic microwave background radiation, and not more than 0.5% in relic neutrinos. Although very small today, these were much more important in the distant past, dominating the matter at redshift > 3200."
   ]
  },
  {
   "cell_type": "code",
   "execution_count": null,
   "metadata": {},
   "outputs": [],
   "source": [
    "ombh2=0.022 # baryon density\n",
    "omch2=0.122 # cold dark matter density\n",
    "mnu=0.06 # mnu – sum of neutrino masses (in eV)\n",
    "\n",
    "print(4.9/26.5)\n",
    "\n",
    "print(ombh2 / omch2)\n",
    "# print((ombh2+mnu) / omch2)"
   ]
  },
  {
   "cell_type": "code",
   "execution_count": null,
   "metadata": {},
   "outputs": [],
   "source": []
  },
  {
   "cell_type": "code",
   "execution_count": null,
   "metadata": {},
   "outputs": [],
   "source": [
    "#def cosmology_simulation(omch2_in=0.122):\n",
    "def cosmology_simulation(omch2_in):\n",
    "    '''\n",
    "    Parameters:\n",
    "    -----------\n",
    "    omch2: Float. Physical density in cold dark matter. Default omch2=0.122\n",
    "    \n",
    "    Returns:\n",
    "    --------\n",
    "    ells: Numpy array\n",
    "    Ells: Numpy array\n",
    "    Dells: Numpy Array\n",
    "    \n",
    "    References:\n",
    "    -----------\n",
    "    https://camb.readthedocs.io/en/latest/model.html\n",
    "    http://camb.readthedocs.io/en/latest/CAMBdemo.html\n",
    "    https://github.com/ixkael/Prob-tools/blob/master/notebooks/The%20CMB%20as%20a%20Gaussian%20Process.ipynb\n",
    "    '''\n",
    "    pars = camb.CAMBparams()\n",
    "    #pars.set_cosmology(H0=67.5, ombh2=0.022, omch2=0.122, mnu=0.06, omk=0, tau=0.06)\n",
    "    pars.set_cosmology(H0=67.5, ombh2=0.022, omch2=omch2_in, mnu=0.06, omk=0, tau=0.06)\n",
    "    pars.InitPower.set_params(ns=0.965, r=0)\n",
    "    pars.set_for_lmax(lmax, lens_potential_accuracy=0);\n",
    "    results = camb.get_results(pars)\n",
    "    powers = results.get_cmb_power_spectra(pars)\n",
    "    totCL = powers['total']\n",
    "    unlensedCL = powers['unlensed_scalar']\n",
    "\n",
    "    ells = np.arange(totCL.shape[0])\n",
    "    Dells = totCL[:, 0]\n",
    "    Cells = Dells * 2*np.pi / ells / (ells + 1)  # change of convention to get C_ell\n",
    "    Cells[0:2] = 0\n",
    "    \n",
    "    return ells, Dells, Cells, omch2_in"
   ]
  },
  {
   "cell_type": "code",
   "execution_count": null,
   "metadata": {},
   "outputs": [],
   "source": [
    "def visualize_cmb_power_spectrum(ells, Dells, Cells):\n",
    "    '''\n",
    "    Reference:\n",
    "    https://github.com/ixkael/Prob-tools/blob/master/notebooks/The%20CMB%20as%20a%20Gaussian%20Process.ipynb\n",
    "    '''\n",
    "    fig, axs = plt.subplots(1, 2, figsize=(10, 4))\n",
    "    axs[0].plot(ells, Dells)\n",
    "    axs[1].plot(ells, Cells)\n",
    "    axs[0].set_xlabel(r'$\\ell$')\n",
    "    axs[1].set_xlabel(r'$\\ell$')\n",
    "    axs[0].set_ylabel(r'$\\frac{\\ell (\\ell+1)}{2\\pi} C_\\ell$ [$\\mu$K^2]')\n",
    "    axs[1].set_ylabel(r'$C_\\ell$ [$\\mu$K^2]')\n",
    "    axs[1].set_yscale('log')\n",
    "    axs[0].set_xlim([2, lmax])\n",
    "    axs[1].set_xlim([2, lmax])\n",
    "    fig.tight_layout()"
   ]
  },
  {
   "cell_type": "code",
   "execution_count": null,
   "metadata": {},
   "outputs": [],
   "source": [
    "# ells, Dells, Cells, omch2_in = cosmology_simulation()\n",
    "# visualize_cmb_power_spectrum(ells, Dells, Cells)"
   ]
  },
  {
   "cell_type": "code",
   "execution_count": null,
   "metadata": {},
   "outputs": [],
   "source": [
    "# print(Dells.shape, Cells.shape)"
   ]
  },
  {
   "cell_type": "code",
   "execution_count": null,
   "metadata": {},
   "outputs": [],
   "source": [
    "#type(Cells)\n",
    "#type(Dells)\n",
    "#type(ells)"
   ]
  },
  {
   "cell_type": "code",
   "execution_count": null,
   "metadata": {},
   "outputs": [],
   "source": [
    "# omch2_in = 0.122\n",
    "# omch2_in = 0.0\n",
    "\n",
    "#str(omch2_in)[2:len(str(omch2_in))]\n",
    "\n",
    "##str(omch2_in)[2:0]"
   ]
  },
  {
   "cell_type": "code",
   "execution_count": null,
   "metadata": {},
   "outputs": [],
   "source": [
    "def simulate_cmb_temperature_anisotropy(Cells, nside, lmax):\n",
    "    '''\n",
    "    '''\n",
    "    cmbmap = hp.synfast(Cells, nside, \n",
    "                        lmax=lmax, mmax=None, alm=False, pol=False, \n",
    "                        pixwin=False, fwhm=0.0, sigma=None, new=False, verbose=True)\n",
    "    \n",
    "    return cmbmap"
   ]
  },
  {
   "cell_type": "code",
   "execution_count": null,
   "metadata": {},
   "outputs": [],
   "source": [
    "def create_cmb_temperature_anisotropy_skymap(cmbmap, classlabel_img, cnt_img):\n",
    "#def create_cmb_temperature_anisotropy_skymap(Cells, classlabel_img, cnt_img):\n",
    "    '''\n",
    "    Parameters:\n",
    "    -----------\n",
    "    Cells: Numpy array generated by Camb\n",
    "    '''\n",
    "    #cmbmap = hp.synfast(Cells, nside, \n",
    "    #                    lmax=lmax, mmax=None, alm=False, pol=False, \n",
    "    #                    pixwin=False, fwhm=0.0, sigma=None, new=False, verbose=True)\n",
    "    \n",
    "    # name_img = classlabel_img + '_cmb_omch2_' + str(omch2_in) + '_2023-07-30_' + str(cnt_img)+ '.jpg'\n",
    "    # name_img = classlabel_img + '_cmb_omch2_' + str(omch2_in)[2:len(str(omch2_in))] + '_2023-07-30_' + str(cnt_img)+ '.jpg'\n",
    "    name_img = classlabel_img + '_' + str(cnt_img) + '_cmb_omch2_' + str(omch2_in)[2:len(str(omch2_in))] + '_20230730' + '.jpg'\n",
    "    print(name_img)\n",
    "    \n",
    "    plt.figure()\n",
    "    hp.mollview(cmbmap)\n",
    "    # plt.savefig(\"output3.jpg\")\n",
    "    # plt.savefig('./data_out_1/' + name_img)\n",
    "    # plt.savefig('./data_out_2/' + name_img)\n",
    "    \n",
    "    # plt.savefig('./data_out_class1a/' + name_img)\n",
    "    plt.savefig('./data_out_class0a/' + name_img)"
   ]
  },
  {
   "cell_type": "code",
   "execution_count": null,
   "metadata": {},
   "outputs": [],
   "source": [
    "# omch2_in=0.122 # class 1\n",
    "omch2_in=0.0 # class 0\n",
    "\n",
    "# ells, Dells, Cells, omch2_in = cosmology_simulation(omch2_in=0.122)\n",
    "ells, Dells, Cells, omch2_in = cosmology_simulation(omch2_in=omch2_in)\n",
    "\n",
    "# cmbmap = simulate_cmb_temperature_anisotropy(Cells, nside, lmax)\n",
    "\n",
    "# create_cmb_temperature_anisotropy_skymap(Cells, classlabel_img, cnt_img)\n",
    "# create_cmb_temperature_anisotropy_skymap(Cells, '1', 8)\n",
    "# create_cmb_temperature_anisotropy_skymap(cmbmap, classlabel_img, cnt_img)\n",
    "# create_cmb_temperature_anisotropy_skymap(cmbmap, '1', 23)\n",
    "\n",
    "# for i in range(0,10):\n",
    "for i in range(0,100):\n",
    "    print(i)\n",
    "    cmbmap = simulate_cmb_temperature_anisotropy(Cells, nside, lmax)\n",
    "    # create_cmb_temperature_anisotropy_skymap(cmbmap, '1', i)\n",
    "    create_cmb_temperature_anisotropy_skymap(cmbmap, '0', i)"
   ]
  },
  {
   "cell_type": "code",
   "execution_count": null,
   "metadata": {},
   "outputs": [],
   "source": [
    "print(omch2_in)\n",
    "visualize_cmb_power_spectrum(ells, Dells, Cells)"
   ]
  },
  {
   "cell_type": "code",
   "execution_count": null,
   "metadata": {},
   "outputs": [],
   "source": []
  }
 ],
 "metadata": {
  "kernelspec": {
   "display_name": "Python 3",
   "language": "python",
   "name": "python3"
  },
  "language_info": {
   "codemirror_mode": {
    "name": "ipython",
    "version": 3
   },
   "file_extension": ".py",
   "mimetype": "text/x-python",
   "name": "python",
   "nbconvert_exporter": "python",
   "pygments_lexer": "ipython3",
   "version": "3.8.5"
  }
 },
 "nbformat": 4,
 "nbformat_minor": 5
}
